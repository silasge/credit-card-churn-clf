{
 "cells": [
  {
   "cell_type": "markdown",
   "id": "cafc6c03-db14-4313-a87b-3bdec7424224",
   "metadata": {},
   "source": [
    "# Introdução"
   ]
  },
  {
   "cell_type": "markdown",
   "id": "8ee5c079-0ab8-4986-b03f-749a039246da",
   "metadata": {},
   "source": [
    "*Churn* pode ser entendido como o ato, feito por parte do cliente, de cancelar um determinado serviço. Também conhecido como atrito, esse é um grande problema enfrentado por empresas que dependam da fidelidade, como as que oferecem *Software as a Service* ou serviços financeiros como Cartões de Crédito.\n",
    "\n",
    "A base de dados apresentada aqui trata justamente do problema do *Churn* em uma empresa de cartão de crédito. O interesse aqui é tentar entender os principais fatores por trás da decisão de cancelar o cartão, e posteriormente tentar prever quais clientes entrarão em atríto. Sabendo disso é possível criar políticas focadas nos clientes com potencial de atrito, aumentando a taxa de fidelidade com a empresa."
   ]
  },
  {
   "cell_type": "markdown",
   "id": "8c81f510-7462-4cb5-8077-99efd23a1a41",
   "metadata": {},
   "source": [
    "# Exploração dos Dados"
   ]
  },
  {
   "cell_type": "markdown",
   "id": "e7fc4e42-3436-45e4-9eb9-8524b82fcf13",
   "metadata": {},
   "source": [
    "Antes de tudo vamos importar os pacotes necessários para a análise."
   ]
  },
  {
   "cell_type": "code",
   "execution_count": 1,
   "id": "160bfd4c-dd48-4e69-840f-40dc9acb3a60",
   "metadata": {},
   "outputs": [],
   "source": [
    "import pandas as pd\n",
    "import altair as alt\n",
    "from sklearn.model_selection import train_test_split\n",
    "import numpy as np"
   ]
  },
  {
   "cell_type": "code",
   "execution_count": 2,
   "id": "4678a0b7-403d-4806-86ed-e782e6051ec1",
   "metadata": {},
   "outputs": [
    {
     "data": {
      "text/plain": [
       "RendererRegistry.enable('mimetype')"
      ]
     },
     "execution_count": 2,
     "metadata": {},
     "output_type": "execute_result"
    }
   ],
   "source": [
    "alt.data_transformers.enable(\"json\")\n",
    "alt.renderers.enable(\"mimetype\")"
   ]
  },
  {
   "cell_type": "markdown",
   "id": "874ba478-c21d-4543-9f88-0ca46c0d1f85",
   "metadata": {},
   "source": [
    "Como iremos treinar alguns modelos posteriormente, é importante já dividirmos o conjunto de dados em um de treinamento e em outro de teste e focarmos nossa análise somente no conjunto de treinamento."
   ]
  },
  {
   "cell_type": "code",
   "execution_count": 3,
   "id": "439f1ccd-2ce8-4bcb-adb5-3e7235e154a7",
   "metadata": {},
   "outputs": [],
   "source": [
    "cc_churn = pd.read_csv(\"../data/raw/credit_card_churn.csv\").iloc[:, :-2]\n",
    "\n",
    "cc_churn_tr, cc_churn_tt = train_test_split(cc_churn, test_size=0.2, random_state=42)"
   ]
  },
  {
   "cell_type": "code",
   "execution_count": 4,
   "id": "e2e0a686-c804-44f9-b73a-98bec29aa629",
   "metadata": {},
   "outputs": [
    {
     "data": {
      "text/html": [
       "<div>\n",
       "<style scoped>\n",
       "    .dataframe tbody tr th:only-of-type {\n",
       "        vertical-align: middle;\n",
       "    }\n",
       "\n",
       "    .dataframe tbody tr th {\n",
       "        vertical-align: top;\n",
       "    }\n",
       "\n",
       "    .dataframe thead th {\n",
       "        text-align: right;\n",
       "    }\n",
       "</style>\n",
       "<table border=\"1\" class=\"dataframe\">\n",
       "  <thead>\n",
       "    <tr style=\"text-align: right;\">\n",
       "      <th></th>\n",
       "      <th>CLIENTNUM</th>\n",
       "      <th>Attrition_Flag</th>\n",
       "      <th>Customer_Age</th>\n",
       "      <th>Gender</th>\n",
       "      <th>Dependent_count</th>\n",
       "      <th>Education_Level</th>\n",
       "      <th>Marital_Status</th>\n",
       "      <th>Income_Category</th>\n",
       "      <th>Card_Category</th>\n",
       "      <th>Months_on_book</th>\n",
       "      <th>...</th>\n",
       "      <th>Months_Inactive_12_mon</th>\n",
       "      <th>Contacts_Count_12_mon</th>\n",
       "      <th>Credit_Limit</th>\n",
       "      <th>Total_Revolving_Bal</th>\n",
       "      <th>Avg_Open_To_Buy</th>\n",
       "      <th>Total_Amt_Chng_Q4_Q1</th>\n",
       "      <th>Total_Trans_Amt</th>\n",
       "      <th>Total_Trans_Ct</th>\n",
       "      <th>Total_Ct_Chng_Q4_Q1</th>\n",
       "      <th>Avg_Utilization_Ratio</th>\n",
       "    </tr>\n",
       "  </thead>\n",
       "  <tbody>\n",
       "    <tr>\n",
       "      <th>9066</th>\n",
       "      <td>713071383</td>\n",
       "      <td>Existing Customer</td>\n",
       "      <td>54</td>\n",
       "      <td>F</td>\n",
       "      <td>1</td>\n",
       "      <td>Unknown</td>\n",
       "      <td>Single</td>\n",
       "      <td>Unknown</td>\n",
       "      <td>Blue</td>\n",
       "      <td>36</td>\n",
       "      <td>...</td>\n",
       "      <td>3</td>\n",
       "      <td>3</td>\n",
       "      <td>3723.0</td>\n",
       "      <td>1728</td>\n",
       "      <td>1995.0</td>\n",
       "      <td>0.595</td>\n",
       "      <td>8554</td>\n",
       "      <td>99</td>\n",
       "      <td>0.678</td>\n",
       "      <td>0.464</td>\n",
       "    </tr>\n",
       "    <tr>\n",
       "      <th>5814</th>\n",
       "      <td>714246333</td>\n",
       "      <td>Attrited Customer</td>\n",
       "      <td>58</td>\n",
       "      <td>F</td>\n",
       "      <td>4</td>\n",
       "      <td>High School</td>\n",
       "      <td>Married</td>\n",
       "      <td>Unknown</td>\n",
       "      <td>Blue</td>\n",
       "      <td>48</td>\n",
       "      <td>...</td>\n",
       "      <td>4</td>\n",
       "      <td>3</td>\n",
       "      <td>5396.0</td>\n",
       "      <td>1803</td>\n",
       "      <td>3593.0</td>\n",
       "      <td>0.493</td>\n",
       "      <td>2107</td>\n",
       "      <td>39</td>\n",
       "      <td>0.393</td>\n",
       "      <td>0.334</td>\n",
       "    </tr>\n",
       "    <tr>\n",
       "      <th>792</th>\n",
       "      <td>718206783</td>\n",
       "      <td>Existing Customer</td>\n",
       "      <td>45</td>\n",
       "      <td>F</td>\n",
       "      <td>4</td>\n",
       "      <td>Unknown</td>\n",
       "      <td>Single</td>\n",
       "      <td>Less than $40K</td>\n",
       "      <td>Gold</td>\n",
       "      <td>36</td>\n",
       "      <td>...</td>\n",
       "      <td>1</td>\n",
       "      <td>3</td>\n",
       "      <td>15987.0</td>\n",
       "      <td>1648</td>\n",
       "      <td>14339.0</td>\n",
       "      <td>0.732</td>\n",
       "      <td>1436</td>\n",
       "      <td>36</td>\n",
       "      <td>1.250</td>\n",
       "      <td>0.103</td>\n",
       "    </tr>\n",
       "    <tr>\n",
       "      <th>1791</th>\n",
       "      <td>721096983</td>\n",
       "      <td>Existing Customer</td>\n",
       "      <td>34</td>\n",
       "      <td>F</td>\n",
       "      <td>2</td>\n",
       "      <td>Graduate</td>\n",
       "      <td>Single</td>\n",
       "      <td>Less than $40K</td>\n",
       "      <td>Blue</td>\n",
       "      <td>36</td>\n",
       "      <td>...</td>\n",
       "      <td>3</td>\n",
       "      <td>4</td>\n",
       "      <td>3625.0</td>\n",
       "      <td>2517</td>\n",
       "      <td>1108.0</td>\n",
       "      <td>1.158</td>\n",
       "      <td>2616</td>\n",
       "      <td>46</td>\n",
       "      <td>1.300</td>\n",
       "      <td>0.694</td>\n",
       "    </tr>\n",
       "    <tr>\n",
       "      <th>5011</th>\n",
       "      <td>720028683</td>\n",
       "      <td>Existing Customer</td>\n",
       "      <td>49</td>\n",
       "      <td>F</td>\n",
       "      <td>2</td>\n",
       "      <td>High School</td>\n",
       "      <td>Married</td>\n",
       "      <td>$40K - $60K</td>\n",
       "      <td>Blue</td>\n",
       "      <td>39</td>\n",
       "      <td>...</td>\n",
       "      <td>3</td>\n",
       "      <td>4</td>\n",
       "      <td>2720.0</td>\n",
       "      <td>1926</td>\n",
       "      <td>794.0</td>\n",
       "      <td>0.602</td>\n",
       "      <td>3806</td>\n",
       "      <td>61</td>\n",
       "      <td>0.794</td>\n",
       "      <td>0.708</td>\n",
       "    </tr>\n",
       "    <tr>\n",
       "      <th>...</th>\n",
       "      <td>...</td>\n",
       "      <td>...</td>\n",
       "      <td>...</td>\n",
       "      <td>...</td>\n",
       "      <td>...</td>\n",
       "      <td>...</td>\n",
       "      <td>...</td>\n",
       "      <td>...</td>\n",
       "      <td>...</td>\n",
       "      <td>...</td>\n",
       "      <td>...</td>\n",
       "      <td>...</td>\n",
       "      <td>...</td>\n",
       "      <td>...</td>\n",
       "      <td>...</td>\n",
       "      <td>...</td>\n",
       "      <td>...</td>\n",
       "      <td>...</td>\n",
       "      <td>...</td>\n",
       "      <td>...</td>\n",
       "      <td>...</td>\n",
       "    </tr>\n",
       "    <tr>\n",
       "      <th>5734</th>\n",
       "      <td>769053033</td>\n",
       "      <td>Attrited Customer</td>\n",
       "      <td>44</td>\n",
       "      <td>F</td>\n",
       "      <td>1</td>\n",
       "      <td>Graduate</td>\n",
       "      <td>Single</td>\n",
       "      <td>$40K - $60K</td>\n",
       "      <td>Blue</td>\n",
       "      <td>38</td>\n",
       "      <td>...</td>\n",
       "      <td>2</td>\n",
       "      <td>5</td>\n",
       "      <td>4142.0</td>\n",
       "      <td>2517</td>\n",
       "      <td>1625.0</td>\n",
       "      <td>0.809</td>\n",
       "      <td>2104</td>\n",
       "      <td>44</td>\n",
       "      <td>0.833</td>\n",
       "      <td>0.608</td>\n",
       "    </tr>\n",
       "    <tr>\n",
       "      <th>5191</th>\n",
       "      <td>714406158</td>\n",
       "      <td>Attrited Customer</td>\n",
       "      <td>53</td>\n",
       "      <td>F</td>\n",
       "      <td>3</td>\n",
       "      <td>High School</td>\n",
       "      <td>Divorced</td>\n",
       "      <td>Unknown</td>\n",
       "      <td>Blue</td>\n",
       "      <td>36</td>\n",
       "      <td>...</td>\n",
       "      <td>3</td>\n",
       "      <td>6</td>\n",
       "      <td>7939.0</td>\n",
       "      <td>0</td>\n",
       "      <td>7939.0</td>\n",
       "      <td>0.551</td>\n",
       "      <td>2269</td>\n",
       "      <td>42</td>\n",
       "      <td>0.312</td>\n",
       "      <td>0.000</td>\n",
       "    </tr>\n",
       "    <tr>\n",
       "      <th>5390</th>\n",
       "      <td>714140133</td>\n",
       "      <td>Existing Customer</td>\n",
       "      <td>42</td>\n",
       "      <td>F</td>\n",
       "      <td>4</td>\n",
       "      <td>Graduate</td>\n",
       "      <td>Unknown</td>\n",
       "      <td>Less than $40K</td>\n",
       "      <td>Blue</td>\n",
       "      <td>32</td>\n",
       "      <td>...</td>\n",
       "      <td>1</td>\n",
       "      <td>2</td>\n",
       "      <td>2314.0</td>\n",
       "      <td>1547</td>\n",
       "      <td>767.0</td>\n",
       "      <td>0.804</td>\n",
       "      <td>4678</td>\n",
       "      <td>74</td>\n",
       "      <td>1.000</td>\n",
       "      <td>0.669</td>\n",
       "    </tr>\n",
       "    <tr>\n",
       "      <th>860</th>\n",
       "      <td>720244983</td>\n",
       "      <td>Existing Customer</td>\n",
       "      <td>40</td>\n",
       "      <td>M</td>\n",
       "      <td>3</td>\n",
       "      <td>Unknown</td>\n",
       "      <td>Single</td>\n",
       "      <td>$40K - $60K</td>\n",
       "      <td>Blue</td>\n",
       "      <td>28</td>\n",
       "      <td>...</td>\n",
       "      <td>1</td>\n",
       "      <td>1</td>\n",
       "      <td>3563.0</td>\n",
       "      <td>1707</td>\n",
       "      <td>1856.0</td>\n",
       "      <td>0.506</td>\n",
       "      <td>1482</td>\n",
       "      <td>42</td>\n",
       "      <td>0.312</td>\n",
       "      <td>0.479</td>\n",
       "    </tr>\n",
       "    <tr>\n",
       "      <th>7270</th>\n",
       "      <td>827123883</td>\n",
       "      <td>Existing Customer</td>\n",
       "      <td>53</td>\n",
       "      <td>M</td>\n",
       "      <td>4</td>\n",
       "      <td>High School</td>\n",
       "      <td>Single</td>\n",
       "      <td>$60K - $80K</td>\n",
       "      <td>Blue</td>\n",
       "      <td>49</td>\n",
       "      <td>...</td>\n",
       "      <td>1</td>\n",
       "      <td>2</td>\n",
       "      <td>3858.0</td>\n",
       "      <td>0</td>\n",
       "      <td>3858.0</td>\n",
       "      <td>0.670</td>\n",
       "      <td>4472</td>\n",
       "      <td>92</td>\n",
       "      <td>0.614</td>\n",
       "      <td>0.000</td>\n",
       "    </tr>\n",
       "  </tbody>\n",
       "</table>\n",
       "<p>8101 rows × 21 columns</p>\n",
       "</div>"
      ],
      "text/plain": [
       "      CLIENTNUM     Attrition_Flag  Customer_Age Gender  Dependent_count  \\\n",
       "9066  713071383  Existing Customer            54      F                1   \n",
       "5814  714246333  Attrited Customer            58      F                4   \n",
       "792   718206783  Existing Customer            45      F                4   \n",
       "1791  721096983  Existing Customer            34      F                2   \n",
       "5011  720028683  Existing Customer            49      F                2   \n",
       "...         ...                ...           ...    ...              ...   \n",
       "5734  769053033  Attrited Customer            44      F                1   \n",
       "5191  714406158  Attrited Customer            53      F                3   \n",
       "5390  714140133  Existing Customer            42      F                4   \n",
       "860   720244983  Existing Customer            40      M                3   \n",
       "7270  827123883  Existing Customer            53      M                4   \n",
       "\n",
       "     Education_Level Marital_Status Income_Category Card_Category  \\\n",
       "9066         Unknown         Single         Unknown          Blue   \n",
       "5814     High School        Married         Unknown          Blue   \n",
       "792          Unknown         Single  Less than $40K          Gold   \n",
       "1791        Graduate         Single  Less than $40K          Blue   \n",
       "5011     High School        Married     $40K - $60K          Blue   \n",
       "...              ...            ...             ...           ...   \n",
       "5734        Graduate         Single     $40K - $60K          Blue   \n",
       "5191     High School       Divorced         Unknown          Blue   \n",
       "5390        Graduate        Unknown  Less than $40K          Blue   \n",
       "860          Unknown         Single     $40K - $60K          Blue   \n",
       "7270     High School         Single     $60K - $80K          Blue   \n",
       "\n",
       "      Months_on_book  ...  Months_Inactive_12_mon  Contacts_Count_12_mon  \\\n",
       "9066              36  ...                       3                      3   \n",
       "5814              48  ...                       4                      3   \n",
       "792               36  ...                       1                      3   \n",
       "1791              36  ...                       3                      4   \n",
       "5011              39  ...                       3                      4   \n",
       "...              ...  ...                     ...                    ...   \n",
       "5734              38  ...                       2                      5   \n",
       "5191              36  ...                       3                      6   \n",
       "5390              32  ...                       1                      2   \n",
       "860               28  ...                       1                      1   \n",
       "7270              49  ...                       1                      2   \n",
       "\n",
       "      Credit_Limit  Total_Revolving_Bal  Avg_Open_To_Buy  \\\n",
       "9066        3723.0                 1728           1995.0   \n",
       "5814        5396.0                 1803           3593.0   \n",
       "792        15987.0                 1648          14339.0   \n",
       "1791        3625.0                 2517           1108.0   \n",
       "5011        2720.0                 1926            794.0   \n",
       "...            ...                  ...              ...   \n",
       "5734        4142.0                 2517           1625.0   \n",
       "5191        7939.0                    0           7939.0   \n",
       "5390        2314.0                 1547            767.0   \n",
       "860         3563.0                 1707           1856.0   \n",
       "7270        3858.0                    0           3858.0   \n",
       "\n",
       "      Total_Amt_Chng_Q4_Q1  Total_Trans_Amt  Total_Trans_Ct  \\\n",
       "9066                 0.595             8554              99   \n",
       "5814                 0.493             2107              39   \n",
       "792                  0.732             1436              36   \n",
       "1791                 1.158             2616              46   \n",
       "5011                 0.602             3806              61   \n",
       "...                    ...              ...             ...   \n",
       "5734                 0.809             2104              44   \n",
       "5191                 0.551             2269              42   \n",
       "5390                 0.804             4678              74   \n",
       "860                  0.506             1482              42   \n",
       "7270                 0.670             4472              92   \n",
       "\n",
       "      Total_Ct_Chng_Q4_Q1  Avg_Utilization_Ratio  \n",
       "9066                0.678                  0.464  \n",
       "5814                0.393                  0.334  \n",
       "792                 1.250                  0.103  \n",
       "1791                1.300                  0.694  \n",
       "5011                0.794                  0.708  \n",
       "...                   ...                    ...  \n",
       "5734                0.833                  0.608  \n",
       "5191                0.312                  0.000  \n",
       "5390                1.000                  0.669  \n",
       "860                 0.312                  0.479  \n",
       "7270                0.614                  0.000  \n",
       "\n",
       "[8101 rows x 21 columns]"
      ]
     },
     "execution_count": 4,
     "metadata": {},
     "output_type": "execute_result"
    }
   ],
   "source": [
    "cc_churn_tr"
   ]
  },
  {
   "cell_type": "code",
   "execution_count": 5,
   "id": "1861bec5-71eb-48f9-ab99-acebc46bf99e",
   "metadata": {},
   "outputs": [
    {
     "name": "stdout",
     "output_type": "stream",
     "text": [
      "<class 'pandas.core.frame.DataFrame'>\n",
      "Int64Index: 8101 entries, 9066 to 7270\n",
      "Data columns (total 21 columns):\n",
      " #   Column                    Non-Null Count  Dtype  \n",
      "---  ------                    --------------  -----  \n",
      " 0   CLIENTNUM                 8101 non-null   int64  \n",
      " 1   Attrition_Flag            8101 non-null   object \n",
      " 2   Customer_Age              8101 non-null   int64  \n",
      " 3   Gender                    8101 non-null   object \n",
      " 4   Dependent_count           8101 non-null   int64  \n",
      " 5   Education_Level           8101 non-null   object \n",
      " 6   Marital_Status            8101 non-null   object \n",
      " 7   Income_Category           8101 non-null   object \n",
      " 8   Card_Category             8101 non-null   object \n",
      " 9   Months_on_book            8101 non-null   int64  \n",
      " 10  Total_Relationship_Count  8101 non-null   int64  \n",
      " 11  Months_Inactive_12_mon    8101 non-null   int64  \n",
      " 12  Contacts_Count_12_mon     8101 non-null   int64  \n",
      " 13  Credit_Limit              8101 non-null   float64\n",
      " 14  Total_Revolving_Bal       8101 non-null   int64  \n",
      " 15  Avg_Open_To_Buy           8101 non-null   float64\n",
      " 16  Total_Amt_Chng_Q4_Q1      8101 non-null   float64\n",
      " 17  Total_Trans_Amt           8101 non-null   int64  \n",
      " 18  Total_Trans_Ct            8101 non-null   int64  \n",
      " 19  Total_Ct_Chng_Q4_Q1       8101 non-null   float64\n",
      " 20  Avg_Utilization_Ratio     8101 non-null   float64\n",
      "dtypes: float64(5), int64(10), object(6)\n",
      "memory usage: 1.4+ MB\n"
     ]
    }
   ],
   "source": [
    "cc_churn_tr.info()"
   ]
  },
  {
   "cell_type": "markdown",
   "id": "84d7b715-7d01-4e7f-ad5a-869fe1de829b",
   "metadata": {},
   "source": [
    "Os dados não parecem sofrer com *missings*."
   ]
  },
  {
   "cell_type": "code",
   "execution_count": 6,
   "id": "b7ebd061-1b48-4f40-86fe-698e140073c9",
   "metadata": {},
   "outputs": [
    {
     "data": {
      "text/plain": [
       "8101"
      ]
     },
     "execution_count": 6,
     "metadata": {},
     "output_type": "execute_result"
    }
   ],
   "source": [
    "len(cc_churn_tr[\"CLIENTNUM\"].unique())"
   ]
  },
  {
   "cell_type": "markdown",
   "id": "58ad1e62-0942-443c-b0a8-4ddd1f7ae101",
   "metadata": {},
   "source": [
    "A variável `CLIENTNUM` é um identificador único de cada cliente. Para os propósitos daqui, não será uma variável útil. Irei excluí-la."
   ]
  },
  {
   "cell_type": "code",
   "execution_count": 7,
   "id": "9a0266b5-88b2-43f3-ae96-7c2c9109bb3a",
   "metadata": {},
   "outputs": [],
   "source": [
    "cc_churn_tr = cc_churn_tr.drop(\"CLIENTNUM\", axis = 1)"
   ]
  },
  {
   "cell_type": "markdown",
   "id": "9553a60f-6bac-4e20-a8cc-c364451b155c",
   "metadata": {},
   "source": [
    "A variável que vamos tentar prever é `Attrition_Flag`. Percebe-se que a taxa de atrito dessa empresa, dada pela nossa categoria positiva `Attrited Customer`, é de cerca de 16%, o que mostra também que é uma variável desbalanceada em favor da categoria negativa `Existing Customer`. Isso significa também que a métrica de *accuracy* não será muito útil aqui."
   ]
  },
  {
   "cell_type": "code",
   "execution_count": 8,
   "id": "25137d9d-6d1a-4e00-93b0-2ed05516bd2b",
   "metadata": {},
   "outputs": [
    {
     "data": {
      "text/plain": [
       "Existing Customer    0.839526\n",
       "Attrited Customer    0.160474\n",
       "Name: Attrition_Flag, dtype: float64"
      ]
     },
     "execution_count": 8,
     "metadata": {},
     "output_type": "execute_result"
    }
   ],
   "source": [
    "cc_churn_tr[\"Attrition_Flag\"].value_counts(normalize=True)"
   ]
  },
  {
   "cell_type": "markdown",
   "id": "c2c6a8a1-fe48-4af7-8d6c-68db9b0dc416",
   "metadata": {},
   "source": [
    "## Visualizações\n",
    "\n",
    "Vamos criar algumas funções para facilitar a visualização dos dados."
   ]
  },
  {
   "cell_type": "code",
   "execution_count": 9,
   "id": "d7f6dd6b-d75f-4579-bbaa-9ff7ad71de85",
   "metadata": {},
   "outputs": [],
   "source": [
    "def plot_cont_var(var, width=200):\n",
    "    dens = alt.Chart(cc_churn_tr).transform_density(\n",
    "        var,\n",
    "        groupby=[\"Attrition_Flag\"],\n",
    "        as_=[var, \"Density\"]\n",
    "    ).mark_area(opacity=0.3).encode(\n",
    "        x=f\"{var}:Q\",\n",
    "        y=\"Density:Q\",\n",
    "        color=\"Attrition_Flag:N\"\n",
    "    )\n",
    "    \n",
    "    rule = alt.Chart(cc_churn_tr).mark_rule().encode(\n",
    "        x=f\"mean({var})\",\n",
    "        color=\"Attrition_Flag:N\"\n",
    "    )\n",
    "    return (dens + rule).properties(width=width)\n",
    "\n",
    "def plot_disc_var(var, width=20):\n",
    "    df_norm = cc_churn_tr.groupby(\n",
    "        [var, \"Attrition_Flag\"]\n",
    "    ).size().div(\n",
    "        cc_churn_tr.groupby(\n",
    "            [\"Attrition_Flag\"]\n",
    "        ).size()).reset_index().rename(\n",
    "        columns={0: \"Percentage\"}\n",
    "    )\n",
    "    \n",
    "    bar_norm = alt.Chart(df_norm).mark_bar().encode(\n",
    "        x=alt.X(\"Attrition_Flag:N\", axis=alt.Axis(title=\"\")),\n",
    "        y=alt.Y(\"Percentage:Q\", axis=alt.Axis(format='.0%')),\n",
    "        color=alt.Color(\"Attrition_Flag:N\"),\n",
    "        column=var\n",
    "    )\n",
    "\n",
    "    return bar_norm.properties(width=width)\n",
    "\n",
    "def plot_corr(df):\n",
    "    df_corr = df.corr()\n",
    "    mask = np.triu(np.ones_like(df_corr, dtype=bool))\n",
    "    tri_df_corr = df_corr.mask(mask)\n",
    "    \n",
    "    corr = tri_df_corr.reset_index().melt(id_vars=\"index\", value_vars=tri_df_corr.columns).dropna(subset=\"value\").sort_values(\"value\", ascending=False)\n",
    "    corr[\"comb\"] = corr[\"index\"].str.cat(corr[\"variable\"], sep=\"-\")\n",
    "    \n",
    "    corr_bar_plot = alt.Chart(corr).mark_bar().encode(\n",
    "        x=\"value:Q\",\n",
    "        y=alt.Y(\"comb:N\", sort=\"-x\"),\n",
    "        color=alt.condition(\n",
    "            alt.datum.value > 0,\n",
    "            alt.value(\"steelblue\"),\n",
    "            alt.value(\"orange\")\n",
    "        )\n",
    "    )\n",
    "    \n",
    "    vline_corr = alt.Chart().mark_rule(color=\"red\").encode(\n",
    "        x=alt.datum(0.8)\n",
    "    )\n",
    "    \n",
    "    return corr_bar_plot + vline_corr"
   ]
  },
  {
   "cell_type": "code",
   "execution_count": 10,
   "id": "c4a7946d-a158-4a7d-b98a-79c91c71c6ff",
   "metadata": {},
   "outputs": [
    {
     "data": {
      "text/html": [
       "<div>\n",
       "<style scoped>\n",
       "    .dataframe tbody tr th:only-of-type {\n",
       "        vertical-align: middle;\n",
       "    }\n",
       "\n",
       "    .dataframe tbody tr th {\n",
       "        vertical-align: top;\n",
       "    }\n",
       "\n",
       "    .dataframe thead th {\n",
       "        text-align: right;\n",
       "    }\n",
       "</style>\n",
       "<table border=\"1\" class=\"dataframe\">\n",
       "  <thead>\n",
       "    <tr style=\"text-align: right;\">\n",
       "      <th></th>\n",
       "      <th>Customer_Age</th>\n",
       "      <th>Dependent_count</th>\n",
       "      <th>Months_on_book</th>\n",
       "      <th>Total_Relationship_Count</th>\n",
       "      <th>Months_Inactive_12_mon</th>\n",
       "      <th>Contacts_Count_12_mon</th>\n",
       "      <th>Credit_Limit</th>\n",
       "      <th>Total_Revolving_Bal</th>\n",
       "      <th>Avg_Open_To_Buy</th>\n",
       "      <th>Total_Amt_Chng_Q4_Q1</th>\n",
       "      <th>Total_Trans_Amt</th>\n",
       "      <th>Total_Trans_Ct</th>\n",
       "      <th>Total_Ct_Chng_Q4_Q1</th>\n",
       "      <th>Avg_Utilization_Ratio</th>\n",
       "    </tr>\n",
       "  </thead>\n",
       "  <tbody>\n",
       "    <tr>\n",
       "      <th>count</th>\n",
       "      <td>8101.000000</td>\n",
       "      <td>8101.000000</td>\n",
       "      <td>8101.000000</td>\n",
       "      <td>8101.000000</td>\n",
       "      <td>8101.000000</td>\n",
       "      <td>8101.000000</td>\n",
       "      <td>8101.000000</td>\n",
       "      <td>8101.000000</td>\n",
       "      <td>8101.000000</td>\n",
       "      <td>8101.000000</td>\n",
       "      <td>8101.000000</td>\n",
       "      <td>8101.000000</td>\n",
       "      <td>8101.000000</td>\n",
       "      <td>8101.000000</td>\n",
       "    </tr>\n",
       "    <tr>\n",
       "      <th>mean</th>\n",
       "      <td>46.306382</td>\n",
       "      <td>2.334773</td>\n",
       "      <td>35.923590</td>\n",
       "      <td>3.813233</td>\n",
       "      <td>2.346871</td>\n",
       "      <td>2.450315</td>\n",
       "      <td>8636.548068</td>\n",
       "      <td>1160.382792</td>\n",
       "      <td>7476.165276</td>\n",
       "      <td>0.760809</td>\n",
       "      <td>4402.988150</td>\n",
       "      <td>64.907789</td>\n",
       "      <td>0.712176</td>\n",
       "      <td>0.273187</td>\n",
       "    </tr>\n",
       "    <tr>\n",
       "      <th>std</th>\n",
       "      <td>8.022527</td>\n",
       "      <td>1.289564</td>\n",
       "      <td>8.024359</td>\n",
       "      <td>1.551838</td>\n",
       "      <td>1.014177</td>\n",
       "      <td>1.100687</td>\n",
       "      <td>9086.419557</td>\n",
       "      <td>815.504293</td>\n",
       "      <td>9080.279910</td>\n",
       "      <td>0.216668</td>\n",
       "      <td>3401.709545</td>\n",
       "      <td>23.556379</td>\n",
       "      <td>0.239321</td>\n",
       "      <td>0.274595</td>\n",
       "    </tr>\n",
       "    <tr>\n",
       "      <th>min</th>\n",
       "      <td>26.000000</td>\n",
       "      <td>0.000000</td>\n",
       "      <td>13.000000</td>\n",
       "      <td>1.000000</td>\n",
       "      <td>0.000000</td>\n",
       "      <td>0.000000</td>\n",
       "      <td>1438.300000</td>\n",
       "      <td>0.000000</td>\n",
       "      <td>3.000000</td>\n",
       "      <td>0.000000</td>\n",
       "      <td>510.000000</td>\n",
       "      <td>10.000000</td>\n",
       "      <td>0.000000</td>\n",
       "      <td>0.000000</td>\n",
       "    </tr>\n",
       "    <tr>\n",
       "      <th>25%</th>\n",
       "      <td>41.000000</td>\n",
       "      <td>1.000000</td>\n",
       "      <td>31.000000</td>\n",
       "      <td>3.000000</td>\n",
       "      <td>2.000000</td>\n",
       "      <td>2.000000</td>\n",
       "      <td>2555.000000</td>\n",
       "      <td>326.000000</td>\n",
       "      <td>1341.000000</td>\n",
       "      <td>0.632000</td>\n",
       "      <td>2160.000000</td>\n",
       "      <td>45.000000</td>\n",
       "      <td>0.583000</td>\n",
       "      <td>0.022000</td>\n",
       "    </tr>\n",
       "    <tr>\n",
       "      <th>50%</th>\n",
       "      <td>46.000000</td>\n",
       "      <td>2.000000</td>\n",
       "      <td>36.000000</td>\n",
       "      <td>4.000000</td>\n",
       "      <td>2.000000</td>\n",
       "      <td>2.000000</td>\n",
       "      <td>4549.000000</td>\n",
       "      <td>1273.000000</td>\n",
       "      <td>3495.000000</td>\n",
       "      <td>0.738000</td>\n",
       "      <td>3897.000000</td>\n",
       "      <td>67.000000</td>\n",
       "      <td>0.702000</td>\n",
       "      <td>0.174000</td>\n",
       "    </tr>\n",
       "    <tr>\n",
       "      <th>75%</th>\n",
       "      <td>52.000000</td>\n",
       "      <td>3.000000</td>\n",
       "      <td>40.000000</td>\n",
       "      <td>5.000000</td>\n",
       "      <td>3.000000</td>\n",
       "      <td>3.000000</td>\n",
       "      <td>11128.000000</td>\n",
       "      <td>1782.000000</td>\n",
       "      <td>9942.000000</td>\n",
       "      <td>0.859000</td>\n",
       "      <td>4739.000000</td>\n",
       "      <td>81.000000</td>\n",
       "      <td>0.818000</td>\n",
       "      <td>0.497000</td>\n",
       "    </tr>\n",
       "    <tr>\n",
       "      <th>max</th>\n",
       "      <td>70.000000</td>\n",
       "      <td>5.000000</td>\n",
       "      <td>56.000000</td>\n",
       "      <td>6.000000</td>\n",
       "      <td>6.000000</td>\n",
       "      <td>6.000000</td>\n",
       "      <td>34516.000000</td>\n",
       "      <td>2517.000000</td>\n",
       "      <td>34516.000000</td>\n",
       "      <td>2.675000</td>\n",
       "      <td>18484.000000</td>\n",
       "      <td>139.000000</td>\n",
       "      <td>3.714000</td>\n",
       "      <td>0.999000</td>\n",
       "    </tr>\n",
       "  </tbody>\n",
       "</table>\n",
       "</div>"
      ],
      "text/plain": [
       "       Customer_Age  Dependent_count  Months_on_book  \\\n",
       "count   8101.000000      8101.000000     8101.000000   \n",
       "mean      46.306382         2.334773       35.923590   \n",
       "std        8.022527         1.289564        8.024359   \n",
       "min       26.000000         0.000000       13.000000   \n",
       "25%       41.000000         1.000000       31.000000   \n",
       "50%       46.000000         2.000000       36.000000   \n",
       "75%       52.000000         3.000000       40.000000   \n",
       "max       70.000000         5.000000       56.000000   \n",
       "\n",
       "       Total_Relationship_Count  Months_Inactive_12_mon  \\\n",
       "count               8101.000000             8101.000000   \n",
       "mean                   3.813233                2.346871   \n",
       "std                    1.551838                1.014177   \n",
       "min                    1.000000                0.000000   \n",
       "25%                    3.000000                2.000000   \n",
       "50%                    4.000000                2.000000   \n",
       "75%                    5.000000                3.000000   \n",
       "max                    6.000000                6.000000   \n",
       "\n",
       "       Contacts_Count_12_mon  Credit_Limit  Total_Revolving_Bal  \\\n",
       "count            8101.000000   8101.000000          8101.000000   \n",
       "mean                2.450315   8636.548068          1160.382792   \n",
       "std                 1.100687   9086.419557           815.504293   \n",
       "min                 0.000000   1438.300000             0.000000   \n",
       "25%                 2.000000   2555.000000           326.000000   \n",
       "50%                 2.000000   4549.000000          1273.000000   \n",
       "75%                 3.000000  11128.000000          1782.000000   \n",
       "max                 6.000000  34516.000000          2517.000000   \n",
       "\n",
       "       Avg_Open_To_Buy  Total_Amt_Chng_Q4_Q1  Total_Trans_Amt  Total_Trans_Ct  \\\n",
       "count      8101.000000           8101.000000      8101.000000     8101.000000   \n",
       "mean       7476.165276              0.760809      4402.988150       64.907789   \n",
       "std        9080.279910              0.216668      3401.709545       23.556379   \n",
       "min           3.000000              0.000000       510.000000       10.000000   \n",
       "25%        1341.000000              0.632000      2160.000000       45.000000   \n",
       "50%        3495.000000              0.738000      3897.000000       67.000000   \n",
       "75%        9942.000000              0.859000      4739.000000       81.000000   \n",
       "max       34516.000000              2.675000     18484.000000      139.000000   \n",
       "\n",
       "       Total_Ct_Chng_Q4_Q1  Avg_Utilization_Ratio  \n",
       "count          8101.000000            8101.000000  \n",
       "mean              0.712176               0.273187  \n",
       "std               0.239321               0.274595  \n",
       "min               0.000000               0.000000  \n",
       "25%               0.583000               0.022000  \n",
       "50%               0.702000               0.174000  \n",
       "75%               0.818000               0.497000  \n",
       "max               3.714000               0.999000  "
      ]
     },
     "execution_count": 10,
     "metadata": {},
     "output_type": "execute_result"
    }
   ],
   "source": [
    "cc_churn_tr.describe()"
   ]
  },
  {
   "cell_type": "code",
   "execution_count": 11,
   "id": "3690ae6a-bfef-45c1-ad4e-4dc8c2e9475a",
   "metadata": {},
   "outputs": [
    {
     "data": {
      "text/html": [
       "<div>\n",
       "<style scoped>\n",
       "    .dataframe tbody tr th:only-of-type {\n",
       "        vertical-align: middle;\n",
       "    }\n",
       "\n",
       "    .dataframe tbody tr th {\n",
       "        vertical-align: top;\n",
       "    }\n",
       "\n",
       "    .dataframe thead th {\n",
       "        text-align: right;\n",
       "    }\n",
       "</style>\n",
       "<table border=\"1\" class=\"dataframe\">\n",
       "  <thead>\n",
       "    <tr style=\"text-align: right;\">\n",
       "      <th></th>\n",
       "      <th>Attrition_Flag</th>\n",
       "      <th>Gender</th>\n",
       "      <th>Education_Level</th>\n",
       "      <th>Marital_Status</th>\n",
       "      <th>Income_Category</th>\n",
       "      <th>Card_Category</th>\n",
       "    </tr>\n",
       "  </thead>\n",
       "  <tbody>\n",
       "    <tr>\n",
       "      <th>count</th>\n",
       "      <td>8101</td>\n",
       "      <td>8101</td>\n",
       "      <td>8101</td>\n",
       "      <td>8101</td>\n",
       "      <td>8101</td>\n",
       "      <td>8101</td>\n",
       "    </tr>\n",
       "    <tr>\n",
       "      <th>unique</th>\n",
       "      <td>2</td>\n",
       "      <td>2</td>\n",
       "      <td>7</td>\n",
       "      <td>4</td>\n",
       "      <td>6</td>\n",
       "      <td>4</td>\n",
       "    </tr>\n",
       "    <tr>\n",
       "      <th>top</th>\n",
       "      <td>Existing Customer</td>\n",
       "      <td>F</td>\n",
       "      <td>Graduate</td>\n",
       "      <td>Married</td>\n",
       "      <td>Less than $40K</td>\n",
       "      <td>Blue</td>\n",
       "    </tr>\n",
       "    <tr>\n",
       "      <th>freq</th>\n",
       "      <td>6801</td>\n",
       "      <td>4279</td>\n",
       "      <td>2528</td>\n",
       "      <td>3767</td>\n",
       "      <td>2812</td>\n",
       "      <td>7557</td>\n",
       "    </tr>\n",
       "  </tbody>\n",
       "</table>\n",
       "</div>"
      ],
      "text/plain": [
       "           Attrition_Flag Gender Education_Level Marital_Status  \\\n",
       "count                8101   8101            8101           8101   \n",
       "unique                  2      2               7              4   \n",
       "top     Existing Customer      F        Graduate        Married   \n",
       "freq                 6801   4279            2528           3767   \n",
       "\n",
       "       Income_Category Card_Category  \n",
       "count             8101          8101  \n",
       "unique               6             4  \n",
       "top     Less than $40K          Blue  \n",
       "freq              2812          7557  "
      ]
     },
     "execution_count": 11,
     "metadata": {},
     "output_type": "execute_result"
    }
   ],
   "source": [
    "cc_churn_tr.describe(include=\"object\")"
   ]
  },
  {
   "cell_type": "code",
   "execution_count": 12,
   "id": "bf0ab6c6-4227-4830-a0ef-664caaa50bc9",
   "metadata": {},
   "outputs": [
    {
     "data": {
      "application/vnd.vegalite.v4+json": {
       "$schema": "https://vega.github.io/schema/vega-lite/v4.17.0.json",
       "config": {
        "view": {
         "continuousHeight": 300,
         "continuousWidth": 400
        }
       },
       "hconcat": [
        {
         "data": {
          "format": {
           "type": "json"
          },
          "url": "altair-data-395d91811ee9015135e6060fce71d37d.json"
         },
         "layer": [
          {
           "encoding": {
            "color": {
             "field": "Attrition_Flag",
             "type": "nominal"
            },
            "x": {
             "field": "Customer_Age",
             "type": "quantitative"
            },
            "y": {
             "field": "Density",
             "type": "quantitative"
            }
           },
           "mark": {
            "opacity": 0.3,
            "type": "area"
           },
           "transform": [
            {
             "as": [
              "Customer_Age",
              "Density"
             ],
             "density": "Customer_Age",
             "groupby": [
              "Attrition_Flag"
             ]
            }
           ]
          },
          {
           "encoding": {
            "color": {
             "field": "Attrition_Flag",
             "type": "nominal"
            },
            "x": {
             "aggregate": "mean",
             "field": "Customer_Age",
             "type": "quantitative"
            }
           },
           "mark": "rule"
          }
         ],
         "width": 200
        },
        {
         "data": {
          "format": {
           "type": "json"
          },
          "url": "altair-data-b2ebfcf3e79509efa9778ded10f1be4e.json"
         },
         "encoding": {
          "color": {
           "field": "Attrition_Flag",
           "type": "nominal"
          },
          "column": {
           "field": "Gender",
           "type": "nominal"
          },
          "x": {
           "axis": {
            "title": ""
           },
           "field": "Attrition_Flag",
           "type": "nominal"
          },
          "y": {
           "axis": {
            "format": ".0%"
           },
           "field": "Percentage",
           "type": "quantitative"
          }
         },
         "mark": "bar",
         "width": 90
        },
        {
         "data": {
          "format": {
           "type": "json"
          },
          "url": "altair-data-18fac46372752bcc9ddbcfce67cd5882.json"
         },
         "encoding": {
          "color": {
           "field": "Attrition_Flag",
           "type": "nominal"
          },
          "column": {
           "field": "Dependent_count",
           "type": "quantitative"
          },
          "x": {
           "axis": {
            "title": ""
           },
           "field": "Attrition_Flag",
           "type": "nominal"
          },
          "y": {
           "axis": {
            "format": ".0%"
           },
           "field": "Percentage",
           "type": "quantitative"
          }
         },
         "mark": "bar",
         "width": 20
        }
       ]
      },
      "text/plain": [
       "<VegaLite 4 object>\n",
       "\n",
       "If you see this message, it means the renderer has not been properly enabled\n",
       "for the frontend that you are using. For more information, see\n",
       "https://altair-viz.github.io/user_guide/troubleshooting.html\n"
      ]
     },
     "execution_count": 12,
     "metadata": {},
     "output_type": "execute_result"
    }
   ],
   "source": [
    "plot_cont_var(\"Customer_Age\") | plot_disc_var(\"Gender\", 90) | plot_disc_var(\"Dependent_count\")"
   ]
  },
  {
   "cell_type": "markdown",
   "id": "42c07bb6-5350-4566-8ee4-389216f4c781",
   "metadata": {},
   "source": [
    "- Idade do Cliente (`Customer_Age`): A idade de clientes em atrito é um pouco maior, em média, apesar da distribuição entre os grupos ser bastante semelhante;\n",
    "- Gênero (`Gender`): A proporção de clientes em atrito é maior entre o sexo feminino;\n",
    "- Número de Dependentes (`Dependent_Count`): Proporcionalmente os clientes em atrito tendem a ter três ou mais dependentes quando comparado aos clientes existentes."
   ]
  },
  {
   "cell_type": "code",
   "execution_count": 13,
   "id": "f7ca1ad7-833f-4186-94c0-6eda56a95b74",
   "metadata": {},
   "outputs": [
    {
     "data": {
      "application/vnd.vegalite.v4+json": {
       "$schema": "https://vega.github.io/schema/vega-lite/v4.17.0.json",
       "config": {
        "view": {
         "continuousHeight": 300,
         "continuousWidth": 400
        }
       },
       "vconcat": [
        {
         "hconcat": [
          {
           "data": {
            "format": {
             "type": "json"
            },
            "url": "altair-data-c5f5aa3c1b5287563d53179533f0c507.json"
           },
           "encoding": {
            "color": {
             "field": "Attrition_Flag",
             "type": "nominal"
            },
            "column": {
             "field": "Education_Level",
             "type": "nominal"
            },
            "x": {
             "axis": {
              "title": ""
             },
             "field": "Attrition_Flag",
             "type": "nominal"
            },
            "y": {
             "axis": {
              "format": ".0%"
             },
             "field": "Percentage",
             "type": "quantitative"
            }
           },
           "mark": "bar",
           "width": 45
          },
          {
           "data": {
            "format": {
             "type": "json"
            },
            "url": "altair-data-bcdc3d2e41bbb8bd8ea98c84c7e736f9.json"
           },
           "encoding": {
            "color": {
             "field": "Attrition_Flag",
             "type": "nominal"
            },
            "column": {
             "field": "Marital_Status",
             "type": "nominal"
            },
            "x": {
             "axis": {
              "title": ""
             },
             "field": "Attrition_Flag",
             "type": "nominal"
            },
            "y": {
             "axis": {
              "format": ".0%"
             },
             "field": "Percentage",
             "type": "quantitative"
            }
           },
           "mark": "bar",
           "width": 20
          }
         ]
        },
        {
         "data": {
          "format": {
           "type": "json"
          },
          "url": "altair-data-708c68efc851e24cecc27adae0bfea2a.json"
         },
         "encoding": {
          "color": {
           "field": "Attrition_Flag",
           "type": "nominal"
          },
          "column": {
           "field": "Income_Category",
           "type": "nominal"
          },
          "x": {
           "axis": {
            "title": ""
           },
           "field": "Attrition_Flag",
           "type": "nominal"
          },
          "y": {
           "axis": {
            "format": ".0%"
           },
           "field": "Percentage",
           "type": "quantitative"
          }
         },
         "mark": "bar",
         "width": 95
        }
       ]
      },
      "text/plain": [
       "<VegaLite 4 object>\n",
       "\n",
       "If you see this message, it means the renderer has not been properly enabled\n",
       "for the frontend that you are using. For more information, see\n",
       "https://altair-viz.github.io/user_guide/troubleshooting.html\n"
      ]
     },
     "execution_count": 13,
     "metadata": {},
     "output_type": "execute_result"
    }
   ],
   "source": [
    "(plot_disc_var(\"Education_Level\", 45) | plot_disc_var(\"Marital_Status\")) & plot_disc_var(\"Income_Category\", 95)"
   ]
  },
  {
   "cell_type": "markdown",
   "id": "88c7a925-9dfe-4d3d-b09d-8b9b581e382a",
   "metadata": {},
   "source": [
    "- Nível de Educação (`Education_Level`): A maior parte dos clientes, seja em atrito ou não, tem nível `Graduate` (Equivalente no Brasil à Pós-Graduação). Na comparação entre os grupos, clientes em atrito são maiores entre os níveis de `Doctorate`, `Post-Graduate` e `Unknown`. Fora do Brasil, `Graduate`, `Doctorate` e `Post-Graduate` são todos estudos feitos após a `Undergraduation` (Ou Graduação aqui no Brasil). Após análise vamos agregar essas três categorias;\n",
    "- Estado Cívil (`Marital Status`): A proporção de clientes em atrito é maior nas categorias de `Divorced` e `Single`;\n",
    "- Nível de Renda (`Income_Category`): Os clientes em atrito são maiores proporcionalmente nas categorias `Less than $40K$` e `Unknown`."
   ]
  },
  {
   "cell_type": "code",
   "execution_count": 14,
   "id": "5661f8ba-8ca8-4b32-bb74-1df80242ed67",
   "metadata": {},
   "outputs": [
    {
     "data": {
      "application/vnd.vegalite.v4+json": {
       "$schema": "https://vega.github.io/schema/vega-lite/v4.17.0.json",
       "config": {
        "view": {
         "continuousHeight": 300,
         "continuousWidth": 400
        }
       },
       "hconcat": [
        {
         "data": {
          "format": {
           "type": "json"
          },
          "url": "altair-data-b38d68f9102006b961365d42f2ab38b2.json"
         },
         "encoding": {
          "color": {
           "field": "Attrition_Flag",
           "type": "nominal"
          },
          "column": {
           "field": "Card_Category",
           "type": "nominal"
          },
          "x": {
           "axis": {
            "title": ""
           },
           "field": "Attrition_Flag",
           "type": "nominal"
          },
          "y": {
           "axis": {
            "format": ".0%"
           },
           "field": "Percentage",
           "type": "quantitative"
          }
         },
         "mark": "bar",
         "width": 20
        },
        {
         "data": {
          "format": {
           "type": "json"
          },
          "url": "altair-data-395d91811ee9015135e6060fce71d37d.json"
         },
         "layer": [
          {
           "encoding": {
            "color": {
             "field": "Attrition_Flag",
             "type": "nominal"
            },
            "x": {
             "field": "Months_on_book",
             "type": "quantitative"
            },
            "y": {
             "field": "Density",
             "type": "quantitative"
            }
           },
           "mark": {
            "opacity": 0.3,
            "type": "area"
           },
           "transform": [
            {
             "as": [
              "Months_on_book",
              "Density"
             ],
             "density": "Months_on_book",
             "groupby": [
              "Attrition_Flag"
             ]
            }
           ]
          },
          {
           "encoding": {
            "color": {
             "field": "Attrition_Flag",
             "type": "nominal"
            },
            "x": {
             "aggregate": "mean",
             "field": "Months_on_book",
             "type": "quantitative"
            }
           },
           "mark": "rule"
          }
         ],
         "width": 200
        },
        {
         "data": {
          "format": {
           "type": "json"
          },
          "url": "altair-data-b51c64fee1a76a1b687871a5b1500c69.json"
         },
         "encoding": {
          "color": {
           "field": "Attrition_Flag",
           "type": "nominal"
          },
          "column": {
           "field": "Total_Relationship_Count",
           "type": "quantitative"
          },
          "x": {
           "axis": {
            "title": ""
           },
           "field": "Attrition_Flag",
           "type": "nominal"
          },
          "y": {
           "axis": {
            "format": ".0%"
           },
           "field": "Percentage",
           "type": "quantitative"
          }
         },
         "mark": "bar",
         "width": 20
        }
       ]
      },
      "text/plain": [
       "<VegaLite 4 object>\n",
       "\n",
       "If you see this message, it means the renderer has not been properly enabled\n",
       "for the frontend that you are using. For more information, see\n",
       "https://altair-viz.github.io/user_guide/troubleshooting.html\n"
      ]
     },
     "execution_count": 14,
     "metadata": {},
     "output_type": "execute_result"
    }
   ],
   "source": [
    "plot_disc_var(\"Card_Category\") | plot_cont_var(\"Months_on_book\") | plot_disc_var(\"Total_Relationship_Count\")"
   ]
  },
  {
   "cell_type": "markdown",
   "id": "4cad0182-d7e0-4407-ba11-042d236fb294",
   "metadata": {},
   "source": [
    "- Categoria do Cartão (`Card_Category`): Mais de 90% dos clientes, em ambos os status, tem cartão de categoria `Blue`, normalmente reservado a cartões de crédito de \"entrada\";\n",
    "- Periodo de relacionamento com o banco (`Months_on_book`): A distribuição de ambos os grupos é bem concentrado ao redor da média de mais ou menos 35 meses, com pouca diferença da média entre os grupos;\n",
    "- Número de produtos do banco na mão da cliente (`Total_Relationship_Count`): Clientes em atrito tendem a ter menos produtos que o banco, com quantidade concentrada em <= 3 produtos."
   ]
  },
  {
   "cell_type": "code",
   "execution_count": 15,
   "id": "6594cb7c-71d7-42ff-99e3-dc161206be78",
   "metadata": {},
   "outputs": [
    {
     "data": {
      "application/vnd.vegalite.v4+json": {
       "$schema": "https://vega.github.io/schema/vega-lite/v4.17.0.json",
       "config": {
        "view": {
         "continuousHeight": 300,
         "continuousWidth": 400
        }
       },
       "hconcat": [
        {
         "data": {
          "format": {
           "type": "json"
          },
          "url": "altair-data-854d5b467c5c62d1a06b092142a262ac.json"
         },
         "encoding": {
          "color": {
           "field": "Attrition_Flag",
           "type": "nominal"
          },
          "column": {
           "field": "Months_Inactive_12_mon",
           "type": "quantitative"
          },
          "x": {
           "axis": {
            "title": ""
           },
           "field": "Attrition_Flag",
           "type": "nominal"
          },
          "y": {
           "axis": {
            "format": ".0%"
           },
           "field": "Percentage",
           "type": "quantitative"
          }
         },
         "mark": "bar",
         "width": 20
        },
        {
         "data": {
          "format": {
           "type": "json"
          },
          "url": "altair-data-f950ae3b2b59a0827faf26dd97a40a74.json"
         },
         "encoding": {
          "color": {
           "field": "Attrition_Flag",
           "type": "nominal"
          },
          "column": {
           "field": "Contacts_Count_12_mon",
           "type": "quantitative"
          },
          "x": {
           "axis": {
            "title": ""
           },
           "field": "Attrition_Flag",
           "type": "nominal"
          },
          "y": {
           "axis": {
            "format": ".0%"
           },
           "field": "Percentage",
           "type": "quantitative"
          }
         },
         "mark": "bar",
         "width": 20
        },
        {
         "data": {
          "format": {
           "type": "json"
          },
          "url": "altair-data-395d91811ee9015135e6060fce71d37d.json"
         },
         "layer": [
          {
           "encoding": {
            "color": {
             "field": "Attrition_Flag",
             "type": "nominal"
            },
            "x": {
             "field": "Credit_Limit",
             "type": "quantitative"
            },
            "y": {
             "field": "Density",
             "type": "quantitative"
            }
           },
           "mark": {
            "opacity": 0.3,
            "type": "area"
           },
           "transform": [
            {
             "as": [
              "Credit_Limit",
              "Density"
             ],
             "density": "Credit_Limit",
             "groupby": [
              "Attrition_Flag"
             ]
            }
           ]
          },
          {
           "encoding": {
            "color": {
             "field": "Attrition_Flag",
             "type": "nominal"
            },
            "x": {
             "aggregate": "mean",
             "field": "Credit_Limit",
             "type": "quantitative"
            }
           },
           "mark": "rule"
          }
         ],
         "width": 200
        }
       ]
      },
      "text/plain": [
       "<VegaLite 4 object>\n",
       "\n",
       "If you see this message, it means the renderer has not been properly enabled\n",
       "for the frontend that you are using. For more information, see\n",
       "https://altair-viz.github.io/user_guide/troubleshooting.html\n"
      ]
     },
     "execution_count": 15,
     "metadata": {},
     "output_type": "execute_result"
    }
   ],
   "source": [
    "plot_disc_var(\"Months_Inactive_12_mon\", 20) | plot_disc_var(\"Contacts_Count_12_mon\") | plot_cont_var(\"Credit_Limit\")"
   ]
  },
  {
   "cell_type": "markdown",
   "id": "5e2ca624-80fb-447d-9a99-03040d9ab437",
   "metadata": {},
   "source": [
    "- Meses Inativos nos Últimos 12 Meses (`Months_Inactive_12_mon`) e Número de Contatos nos Últimos 12 Meses (`Contacts_Count_12_mon`): Clientes em atrito tendem a ter mais meses em inatividade nos ultimos 12 meses e mais contatos (a partir de 3);\n",
    "- Limite de Crédito (`Credit_Limit`): Distriuições praticamente semelhantes, com a média um pouco maior para clientes existentes."
   ]
  },
  {
   "cell_type": "code",
   "execution_count": 16,
   "id": "ac4cfeb4-3ae6-453a-a019-606742164b28",
   "metadata": {},
   "outputs": [
    {
     "data": {
      "application/vnd.vegalite.v4+json": {
       "$schema": "https://vega.github.io/schema/vega-lite/v4.17.0.json",
       "config": {
        "view": {
         "continuousHeight": 300,
         "continuousWidth": 400
        }
       },
       "data": {
        "format": {
         "type": "json"
        },
        "url": "altair-data-395d91811ee9015135e6060fce71d37d.json"
       },
       "hconcat": [
        {
         "layer": [
          {
           "encoding": {
            "color": {
             "field": "Attrition_Flag",
             "type": "nominal"
            },
            "x": {
             "field": "Total_Revolving_Bal",
             "type": "quantitative"
            },
            "y": {
             "field": "Density",
             "type": "quantitative"
            }
           },
           "mark": {
            "opacity": 0.3,
            "type": "area"
           },
           "transform": [
            {
             "as": [
              "Total_Revolving_Bal",
              "Density"
             ],
             "density": "Total_Revolving_Bal",
             "groupby": [
              "Attrition_Flag"
             ]
            }
           ]
          },
          {
           "encoding": {
            "color": {
             "field": "Attrition_Flag",
             "type": "nominal"
            },
            "x": {
             "aggregate": "mean",
             "field": "Total_Revolving_Bal",
             "type": "quantitative"
            }
           },
           "mark": "rule"
          }
         ],
         "width": 200
        },
        {
         "layer": [
          {
           "encoding": {
            "color": {
             "field": "Attrition_Flag",
             "type": "nominal"
            },
            "x": {
             "field": "Avg_Open_To_Buy",
             "type": "quantitative"
            },
            "y": {
             "field": "Density",
             "type": "quantitative"
            }
           },
           "mark": {
            "opacity": 0.3,
            "type": "area"
           },
           "transform": [
            {
             "as": [
              "Avg_Open_To_Buy",
              "Density"
             ],
             "density": "Avg_Open_To_Buy",
             "groupby": [
              "Attrition_Flag"
             ]
            }
           ]
          },
          {
           "encoding": {
            "color": {
             "field": "Attrition_Flag",
             "type": "nominal"
            },
            "x": {
             "aggregate": "mean",
             "field": "Avg_Open_To_Buy",
             "type": "quantitative"
            }
           },
           "mark": "rule"
          }
         ],
         "width": 200
        },
        {
         "layer": [
          {
           "encoding": {
            "color": {
             "field": "Attrition_Flag",
             "type": "nominal"
            },
            "x": {
             "field": "Total_Amt_Chng_Q4_Q1",
             "type": "quantitative"
            },
            "y": {
             "field": "Density",
             "type": "quantitative"
            }
           },
           "mark": {
            "opacity": 0.3,
            "type": "area"
           },
           "transform": [
            {
             "as": [
              "Total_Amt_Chng_Q4_Q1",
              "Density"
             ],
             "density": "Total_Amt_Chng_Q4_Q1",
             "groupby": [
              "Attrition_Flag"
             ]
            }
           ]
          },
          {
           "encoding": {
            "color": {
             "field": "Attrition_Flag",
             "type": "nominal"
            },
            "x": {
             "aggregate": "mean",
             "field": "Total_Amt_Chng_Q4_Q1",
             "type": "quantitative"
            }
           },
           "mark": "rule"
          }
         ],
         "width": 200
        }
       ]
      },
      "text/plain": [
       "<VegaLite 4 object>\n",
       "\n",
       "If you see this message, it means the renderer has not been properly enabled\n",
       "for the frontend that you are using. For more information, see\n",
       "https://altair-viz.github.io/user_guide/troubleshooting.html\n"
      ]
     },
     "execution_count": 16,
     "metadata": {},
     "output_type": "execute_result"
    }
   ],
   "source": [
    "plot_cont_var(\"Total_Revolving_Bal\") | plot_cont_var(\"Avg_Open_To_Buy\") | plot_cont_var(\"Total_Amt_Chng_Q4_Q1\")"
   ]
  },
  {
   "cell_type": "markdown",
   "id": "6a6002c5-2a05-4baf-bf37-d297473f8309",
   "metadata": {},
   "source": [
    "- Saldo Total do Rotativo (`Total_Revolving_Bal`): Tende a ser menor entre os clientes em atrito. A distribuição entre os dois grupos difere bastante, inclusive. Entre os clientes em atrito o saldo se concentra muito ao redor do 0;\n",
    "- Limite Disponível (`Avg_Open_To_Buy`): As médias são praticamente as mesmas, tal como as distribuições. Cabe notar também a semelhança das distribuições com `Credit_Limit`. Parece haver uma alta correlação;\n",
    "- Mudança no Valor Total de Transações entre o 4º e 1º Semestre (`Total_Amt_Chng_Q4_Q1`): A distribuição do grupo de clientes em atrito tende a ser mais \"gorda\" à esquerda enquanto que no grupo de clientes existentes a distribuição é mais \"gorda\" à direita. Ou seja, é mais provável encontrar clientes em atrito que diminuiram seus gastos (quando `Total_Amt_Chng_Q4_Q1` < 1), enquanto que clientes existentes tendem a ter aumentado seus gastos (quando `Total_Amt_Chng_Q4_Q1` > 1)."
   ]
  },
  {
   "cell_type": "code",
   "execution_count": 17,
   "id": "748243e7-903a-44e8-9bbc-46bb36bf132a",
   "metadata": {},
   "outputs": [
    {
     "data": {
      "application/vnd.vegalite.v4+json": {
       "$schema": "https://vega.github.io/schema/vega-lite/v4.17.0.json",
       "config": {
        "view": {
         "continuousHeight": 300,
         "continuousWidth": 400
        }
       },
       "data": {
        "format": {
         "type": "json"
        },
        "url": "altair-data-395d91811ee9015135e6060fce71d37d.json"
       },
       "vconcat": [
        {
         "hconcat": [
          {
           "layer": [
            {
             "encoding": {
              "color": {
               "field": "Attrition_Flag",
               "type": "nominal"
              },
              "x": {
               "field": "Total_Trans_Amt",
               "type": "quantitative"
              },
              "y": {
               "field": "Density",
               "type": "quantitative"
              }
             },
             "mark": {
              "opacity": 0.3,
              "type": "area"
             },
             "transform": [
              {
               "as": [
                "Total_Trans_Amt",
                "Density"
               ],
               "density": "Total_Trans_Amt",
               "groupby": [
                "Attrition_Flag"
               ]
              }
             ]
            },
            {
             "encoding": {
              "color": {
               "field": "Attrition_Flag",
               "type": "nominal"
              },
              "x": {
               "aggregate": "mean",
               "field": "Total_Trans_Amt",
               "type": "quantitative"
              }
             },
             "mark": "rule"
            }
           ],
           "width": 200
          },
          {
           "layer": [
            {
             "encoding": {
              "color": {
               "field": "Attrition_Flag",
               "type": "nominal"
              },
              "x": {
               "field": "Total_Trans_Ct",
               "type": "quantitative"
              },
              "y": {
               "field": "Density",
               "type": "quantitative"
              }
             },
             "mark": {
              "opacity": 0.3,
              "type": "area"
             },
             "transform": [
              {
               "as": [
                "Total_Trans_Ct",
                "Density"
               ],
               "density": "Total_Trans_Ct",
               "groupby": [
                "Attrition_Flag"
               ]
              }
             ]
            },
            {
             "encoding": {
              "color": {
               "field": "Attrition_Flag",
               "type": "nominal"
              },
              "x": {
               "aggregate": "mean",
               "field": "Total_Trans_Ct",
               "type": "quantitative"
              }
             },
             "mark": "rule"
            }
           ],
           "width": 200
          },
          {
           "layer": [
            {
             "encoding": {
              "color": {
               "field": "Attrition_Flag",
               "type": "nominal"
              },
              "x": {
               "field": "Total_Ct_Chng_Q4_Q1",
               "type": "quantitative"
              },
              "y": {
               "field": "Density",
               "type": "quantitative"
              }
             },
             "mark": {
              "opacity": 0.3,
              "type": "area"
             },
             "transform": [
              {
               "as": [
                "Total_Ct_Chng_Q4_Q1",
                "Density"
               ],
               "density": "Total_Ct_Chng_Q4_Q1",
               "groupby": [
                "Attrition_Flag"
               ]
              }
             ]
            },
            {
             "encoding": {
              "color": {
               "field": "Attrition_Flag",
               "type": "nominal"
              },
              "x": {
               "aggregate": "mean",
               "field": "Total_Ct_Chng_Q4_Q1",
               "type": "quantitative"
              }
             },
             "mark": "rule"
            }
           ],
           "width": 200
          }
         ]
        },
        {
         "layer": [
          {
           "encoding": {
            "color": {
             "field": "Attrition_Flag",
             "type": "nominal"
            },
            "x": {
             "field": "Avg_Utilization_Ratio",
             "type": "quantitative"
            },
            "y": {
             "field": "Density",
             "type": "quantitative"
            }
           },
           "mark": {
            "opacity": 0.3,
            "type": "area"
           },
           "transform": [
            {
             "as": [
              "Avg_Utilization_Ratio",
              "Density"
             ],
             "density": "Avg_Utilization_Ratio",
             "groupby": [
              "Attrition_Flag"
             ]
            }
           ]
          },
          {
           "encoding": {
            "color": {
             "field": "Attrition_Flag",
             "type": "nominal"
            },
            "x": {
             "aggregate": "mean",
             "field": "Avg_Utilization_Ratio",
             "type": "quantitative"
            }
           },
           "mark": "rule"
          }
         ],
         "width": 200
        }
       ]
      },
      "text/plain": [
       "<VegaLite 4 object>\n",
       "\n",
       "If you see this message, it means the renderer has not been properly enabled\n",
       "for the frontend that you are using. For more information, see\n",
       "https://altair-viz.github.io/user_guide/troubleshooting.html\n"
      ]
     },
     "execution_count": 17,
     "metadata": {},
     "output_type": "execute_result"
    }
   ],
   "source": [
    "(plot_cont_var(\"Total_Trans_Amt\") | plot_cont_var(\"Total_Trans_Ct\") | plot_cont_var(\"Total_Ct_Chng_Q4_Q1\")) & plot_cont_var(\"Avg_Utilization_Ratio\")"
   ]
  },
  {
   "cell_type": "markdown",
   "id": "08a893b5-758e-4610-aa9c-b5901de289d7",
   "metadata": {},
   "source": [
    "- Valor Total de Transações nos Últimos 12 Meses (`Total_Trans_Amt`): Os clientes em atrito gastaram, em média, menos do que os clientes em atrito nos últimos 12 meses;\n",
    "- Número Total de Transações nos Últimos 12 Meses (`Total_Trans_Ct`): Clientes em atrito fizeram menos transações nos últimos 12 meses do que os clientes existentes;\n",
    "- Mudança no Número de Transações entre o 4º e 1º Trimestre (`Total_Ct_Chng_Q4_Q1`): Clientes em atrito tenderam a diminuir o número de transações durante os trimestres;\n",
    "- Média da Razão de Utilização (`Avg_Utilization_Ratio`): A Razão de Utilização é da pela soma dos gastos no cartão dividido pelo limite. O grupo de clientes em atrito tende a gastar menos, na média, como proporção do seu limite. "
   ]
  },
  {
   "cell_type": "markdown",
   "id": "b72f998f-9870-4184-83c0-9fa87898bbd3",
   "metadata": {},
   "source": [
    "## Correlações"
   ]
  },
  {
   "cell_type": "code",
   "execution_count": 18,
   "id": "bb9baa44-16b8-4ba6-8bd8-c2c8f22261da",
   "metadata": {},
   "outputs": [
    {
     "data": {
      "application/vnd.vegalite.v4+json": {
       "$schema": "https://vega.github.io/schema/vega-lite/v4.17.0.json",
       "config": {
        "view": {
         "continuousHeight": 300,
         "continuousWidth": 400
        }
       },
       "datasets": {
        "empty": [
         {}
        ]
       },
       "layer": [
        {
         "data": {
          "format": {
           "type": "json"
          },
          "url": "altair-data-4f4d6b982b0616a8fce5f6db5ede466c.json"
         },
         "encoding": {
          "color": {
           "condition": {
            "test": "(datum.value > 0)",
            "value": "steelblue"
           },
           "value": "orange"
          },
          "x": {
           "field": "value",
           "type": "quantitative"
          },
          "y": {
           "field": "comb",
           "sort": "-x",
           "type": "nominal"
          }
         },
         "mark": "bar"
        },
        {
         "data": {
          "name": "empty"
         },
         "encoding": {
          "x": {
           "datum": 0.8
          }
         },
         "mark": {
          "color": "red",
          "type": "rule"
         }
        }
       ]
      },
      "text/plain": [
       "<VegaLite 4 object>\n",
       "\n",
       "If you see this message, it means the renderer has not been properly enabled\n",
       "for the frontend that you are using. For more information, see\n",
       "https://altair-viz.github.io/user_guide/troubleshooting.html\n"
      ]
     },
     "execution_count": 18,
     "metadata": {},
     "output_type": "execute_result"
    }
   ],
   "source": [
    "plot_corr(cc_churn_tr)"
   ]
  },
  {
   "cell_type": "markdown",
   "id": "1b409afa-f565-4b52-84f6-21224b7916a3",
   "metadata": {},
   "source": [
    "# Conclusões"
   ]
  },
  {
   "cell_type": "markdown",
   "id": "3e7ce495-a5ef-4145-b56d-b5525d144b97",
   "metadata": {},
   "source": [
    "Pela análise descritiva, os fatores mais importantes para a existência de atrito tem a ver com padrões de utilização do cartão. Consumidores em atrito tendem a gastar menos o cartão como proporção do limite e gastam menos e em menor frequência durante o ano.\n",
    "\n",
    "Essa análise preliminar pode sugerir que o incentivo a utilização do cartão pode ser uma boa maneira para garantir fidelidade. Exemplos podem incluir criar um programa de milha, cashback ou algum outro tipo de benefício."
   ]
  },
  {
   "cell_type": "markdown",
   "id": "b7e7f28b-af86-4778-95dd-b9ba11570450",
   "metadata": {},
   "source": [
    "# Encaminhamentos para Pré-Processamento dos Dados"
   ]
  },
  {
   "cell_type": "markdown",
   "id": "f488dc02-c564-46f3-b59b-4eadf81bb227",
   "metadata": {},
   "source": [
    "- `Gender` e `Marital_Status`: OneHotEncoder\n",
    "- `Card_Type`: OneHotEncoder e agregar infrequentes como \"outros\"\n",
    "- `Education_Level` e `Income_Category`: OrdinalEncoder\n",
    "- `Avg_Open_To_Buy` e `Credit_Limit`: tem correlação praticamente perfeita. Manterei somente `Credit_Limit`\n",
    "- `Credit_Limit`, `Total_Revolving_Bal`, `Total_Trans_Amt`, `Avg_Utilization_Ratio`: Logs\n",
    "- Restante das variáveis numéricas: Padronizar"
   ]
  }
 ],
 "metadata": {
  "kernelspec": {
   "display_name": "Python 3.9.13 ('.venv': poetry)",
   "language": "python",
   "name": "python3"
  },
  "language_info": {
   "codemirror_mode": {
    "name": "ipython",
    "version": 3
   },
   "file_extension": ".py",
   "mimetype": "text/x-python",
   "name": "python",
   "nbconvert_exporter": "python",
   "pygments_lexer": "ipython3",
   "version": "3.9.13"
  },
  "vscode": {
   "interpreter": {
    "hash": "ae80b96ead5997db4e0b46bc83745090508d83c5b71e0e39e4333d474e5b4f8c"
   }
  }
 },
 "nbformat": 4,
 "nbformat_minor": 5
}
