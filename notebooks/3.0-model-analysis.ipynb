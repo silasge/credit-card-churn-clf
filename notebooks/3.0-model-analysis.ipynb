{
 "cells": [
  {
   "cell_type": "code",
   "execution_count": 10,
   "metadata": {},
   "outputs": [],
   "source": [
    "from glob import glob\n",
    "import warnings\n",
    "\n",
    "import altair as alt\n",
    "from altair import datum\n",
    "import joblib\n",
    "import numpy as np\n",
    "import pandas as pd\n",
    "from sklearn.metrics import roc_curve, roc_auc_score, precision_recall_curve, precision_score, recall_score\n",
    "from sklearn.model_selection import cross_val_predict\n",
    "from sklearn.preprocessing import LabelBinarizer\n",
    "\n",
    "from credit_card_churn_clf.data.data_funcs import read_credit_card_churn_split\n",
    "from credit_card_churn_clf.models.modeling_funcs import predict_on_test_set"
   ]
  },
  {
   "cell_type": "code",
   "execution_count": 11,
   "metadata": {},
   "outputs": [],
   "source": [
    "warnings.filterwarnings(\"ignore\")"
   ]
  },
  {
   "cell_type": "code",
   "execution_count": 12,
   "metadata": {},
   "outputs": [
    {
     "data": {
      "text/plain": [
       "RendererRegistry.enable('mimetype')"
      ]
     },
     "execution_count": 12,
     "metadata": {},
     "output_type": "execute_result"
    }
   ],
   "source": [
    "alt.data_transformers.enable(\"json\")\n",
    "alt.renderers.enable(\"mimetype\")"
   ]
  },
  {
   "cell_type": "code",
   "execution_count": 13,
   "metadata": {},
   "outputs": [],
   "source": [
    "X_train, y_train = read_credit_card_churn_split(\n",
    "    \"../data/splits/credit_card_churn_train_test.pkl\", \n",
    "    train_or_test=\"train\", \n",
    "    split_y=True\n",
    ")\n",
    "\n",
    "X_test, y_test = read_credit_card_churn_split(\n",
    "    \"../data/splits/credit_card_churn_train_test.pkl\", \n",
    "    train_or_test=\"test\", \n",
    "    split_y=True\n",
    ")"
   ]
  },
  {
   "cell_type": "markdown",
   "metadata": {},
   "source": [
    "## Melhores Modelos"
   ]
  },
  {
   "cell_type": "code",
   "execution_count": 14,
   "metadata": {},
   "outputs": [
    {
     "name": "stdout",
     "output_type": "stream",
     "text": [
      "Estimator:  DecisionTreeClassifier\n",
      "AUC do Melhor Estimador:  0.957075009516891\n",
      "Estimator:  GradientBoostingClassifier\n",
      "AUC do Melhor Estimador:  0.993545176141445\n",
      "Estimator:  LogisticRegression\n",
      "AUC do Melhor Estimador:  0.937262933828932\n",
      "Estimator:  RandomForestClassifier\n",
      "AUC do Melhor Estimador:  0.9833461322357463\n"
     ]
    }
   ],
   "source": [
    "models = []\n",
    "\n",
    "for m in glob(\"../models/*.pkl\"):\n",
    "    model = joblib.load(m)\n",
    "    print(\"Estimator: \", model.estimator.named_steps[\"clf\"].__class__.__name__)\n",
    "    print(\"AUC do Melhor Estimador: \", model.best_score_)\n",
    "    models += [model]"
   ]
  },
  {
   "cell_type": "markdown",
   "metadata": {},
   "source": [
    "## Precision Recall Curve"
   ]
  },
  {
   "cell_type": "code",
   "execution_count": 15,
   "metadata": {},
   "outputs": [
    {
     "name": "stdout",
     "output_type": "stream",
     "text": [
      "DecisionTreeClassifier\n",
      "GradientBoostingClassifier\n",
      "LogisticRegression\n",
      "RandomForestClassifier\n"
     ]
    }
   ],
   "source": [
    "pr_rec_dfs = []\n",
    "\n",
    "for m in glob(\"../models/*.pkl\"):\n",
    "    model = joblib.load(m)\n",
    "    model_name = model.estimator.named_steps[\"clf\"].__class__.__name__\n",
    "    y_preds = cross_val_predict(model.best_estimator_, X_train, y_train, cv = 5, method = \"predict_proba\")\n",
    "    precision, recall, thresholds = precision_recall_curve(y_true=y_train, probas_pred=y_preds[:, 1])        \n",
    "    data_ = pd.DataFrame({\"model\": [model_name]*len(thresholds), \"recall\": recall[:-1], \"precision\": precision[:-1], \"thresholds\": thresholds})\n",
    "    pr_rec_dfs.append(data_)\n",
    "    print(model_name)\n",
    "    \n",
    "pr_rec_df = pd.concat(pr_rec_dfs)"
   ]
  },
  {
   "cell_type": "code",
   "execution_count": 16,
   "metadata": {},
   "outputs": [
    {
     "data": {
      "application/vnd.vegalite.v4+json": {
       "$schema": "https://vega.github.io/schema/vega-lite/v4.17.0.json",
       "config": {
        "view": {
         "continuousHeight": 300,
         "continuousWidth": 400
        }
       },
       "data": {
        "format": {
         "type": "json"
        },
        "url": "altair-data-71ccb3c8a30aeafb2487b55751f081ec.json"
       },
       "encoding": {
        "color": {
         "field": "model",
         "legend": {
          "orient": "top",
          "title": "Modelos"
         },
         "type": "nominal"
        },
        "tooltip": [
         {
          "field": "model",
          "type": "nominal"
         },
         {
          "field": "recall",
          "type": "quantitative"
         },
         {
          "field": "precision",
          "type": "quantitative"
         },
         {
          "field": "thresholds",
          "type": "quantitative"
         }
        ],
        "x": {
         "field": "recall",
         "type": "quantitative"
        },
        "y": {
         "field": "precision",
         "type": "quantitative"
        }
       },
       "height": 400,
       "mark": "line",
       "width": 600
      },
      "text/plain": [
       "<VegaLite 4 object>\n",
       "\n",
       "If you see this message, it means the renderer has not been properly enabled\n",
       "for the frontend that you are using. For more information, see\n",
       "https://altair-viz.github.io/user_guide/troubleshooting.html\n"
      ]
     },
     "execution_count": 16,
     "metadata": {},
     "output_type": "execute_result"
    }
   ],
   "source": [
    "pr_rec_plot = alt.Chart(pr_rec_df).mark_line().encode(\n",
    "    x=\"recall:Q\",\n",
    "    y=\"precision:Q\",\n",
    "    color=alt.Color(\"model:N\", legend=alt.Legend(orient=\"top\", title=\"Modelos\")),\n",
    "    tooltip=[\"model:N\", \"recall:Q\", \"precision:Q\", \"thresholds:Q\"]\n",
    ").properties(height=400, width=600)\n",
    "\n",
    "pr_rec_plot"
   ]
  },
  {
   "cell_type": "markdown",
   "metadata": {},
   "source": [
    "## ROC Curve"
   ]
  },
  {
   "cell_type": "code",
   "execution_count": 17,
   "metadata": {},
   "outputs": [
    {
     "name": "stdout",
     "output_type": "stream",
     "text": [
      "DecisionTreeClassifier\n",
      "GradientBoostingClassifier\n",
      "LogisticRegression\n",
      "RandomForestClassifier\n"
     ]
    }
   ],
   "source": [
    "roc_dfs = []\n",
    "\n",
    "for m in glob(\"../models/*.pkl\"):\n",
    "    model = joblib.load(m)\n",
    "    model_name = model.estimator.named_steps[\"clf\"].__class__.__name__\n",
    "    y_preds = cross_val_predict(model.best_estimator_, X_train, y_train, cv = 5, method = \"predict_proba\")\n",
    "    fpr, tpr, thresholds = roc_curve(y_true=y_train, y_score=y_preds[:, 1])\n",
    "    auc_ = model.best_score_\n",
    "    data_ = pd.DataFrame({\"model\": [model_name]*len(fpr), \"fpr\": fpr, \"tpr\": tpr, \"thresholds\": thresholds, \"auc\": [auc_]*len(fpr)})\n",
    "    roc_dfs.append(data_)\n",
    "    print(model_name)\n",
    "    \n",
    "roc_curves_df = pd.concat(roc_dfs)"
   ]
  },
  {
   "cell_type": "code",
   "execution_count": 18,
   "metadata": {},
   "outputs": [
    {
     "data": {
      "application/vnd.vegalite.v4+json": {
       "$schema": "https://vega.github.io/schema/vega-lite/v4.17.0.json",
       "config": {
        "view": {
         "continuousHeight": 300,
         "continuousWidth": 400
        }
       },
       "height": 400,
       "layer": [
        {
         "data": {
          "format": {
           "type": "json"
          },
          "url": "altair-data-902f5b001f6292e103af23b0b7dec101.json"
         },
         "encoding": {
          "x": {
           "field": "fpr",
           "title": "False Positive Rate (fpr)",
           "type": "quantitative"
          },
          "y": {
           "field": "tpr",
           "title": "True Positive Rate (tpr)",
           "type": "quantitative"
          }
         },
         "mark": {
          "color": "black",
          "strokeDash": [
           5,
           5
          ],
          "type": "line"
         }
        },
        {
         "data": {
          "format": {
           "type": "json"
          },
          "url": "altair-data-d79f80cfd45a7124330f0d8f087ade19.json"
         },
         "encoding": {
          "color": {
           "field": "model",
           "legend": {
            "orient": "top",
            "title": "Modelos"
           },
           "type": "nominal"
          },
          "tooltip": [
           {
            "field": "model",
            "type": "nominal"
           },
           {
            "field": "fpr",
            "type": "quantitative"
           },
           {
            "field": "tpr",
            "type": "quantitative"
           },
           {
            "field": "thresholds",
            "type": "quantitative"
           },
           {
            "field": "auc",
            "type": "quantitative"
           }
          ],
          "x": {
           "field": "fpr",
           "type": "quantitative"
          },
          "y": {
           "field": "tpr",
           "type": "quantitative"
          }
         },
         "mark": "line"
        }
       ],
       "width": 600
      },
      "text/plain": [
       "<VegaLite 4 object>\n",
       "\n",
       "If you see this message, it means the renderer has not been properly enabled\n",
       "for the frontend that you are using. For more information, see\n",
       "https://altair-viz.github.io/user_guide/troubleshooting.html\n"
      ]
     },
     "execution_count": 18,
     "metadata": {},
     "output_type": "execute_result"
    }
   ],
   "source": [
    "line = pd.DataFrame({\"fpr\": [0, 1], \"tpr\": [0, 1]})\n",
    "\n",
    "base_plot = alt.Chart(line).mark_line(color=\"black\", strokeDash=[5, 5]).encode(\n",
    "    x=alt.X(\"fpr\", title=\"False Positive Rate (fpr)\"),\n",
    "    y=alt.Y(\"tpr\", title=\"True Positive Rate (tpr)\")\n",
    ")\n",
    "\n",
    "roc_plot = alt.Chart(roc_curves_df).mark_line().encode(\n",
    "    x=\"fpr:Q\",\n",
    "    y=\"tpr:Q\",\n",
    "    color=alt.Color(\"model:N\", legend=alt.Legend(orient=\"top\", title=\"Modelos\")),\n",
    "    tooltip=[\"model:N\", \"fpr:Q\", \"tpr:Q\", \"thresholds:Q\", \"auc:Q\"]\n",
    ")\n",
    "\n",
    "(base_plot + roc_plot).properties(height=400, width=600)"
   ]
  },
  {
   "cell_type": "markdown",
   "metadata": {},
   "source": [
    "## Predição no Conjunto de Teste"
   ]
  },
  {
   "cell_type": "markdown",
   "metadata": {},
   "source": [
    "O melhor modelo entre os avaliados é o Gradient Boosting, oferecendo um ROC AUC muito próximo ao perfeito no conjunto de validação. A curva de Precisão x Recall também mostra que o Gradient Boosting retorna resultados excelentes para as duas métricas. A um threshold padrão de 50%, o Gradient Boosting oferece uma Precisão de 94% e um Recall de 89%. Modificar o threshold pra 22% traz 91% tanto para as duas métricas.\n",
    "\n",
    "Sendo esse esse o modelo escolhido, podemos verificar sua performance no conjunto de teste."
   ]
  },
  {
   "cell_type": "code",
   "execution_count": 19,
   "metadata": {},
   "outputs": [
    {
     "name": "stdout",
     "output_type": "stream",
     "text": [
      "Roc Auc de Teste:  0.9420049210454792\n",
      "Precisão:  0.891566265060241\n",
      "Recall:  0.9051987767584098\n"
     ]
    }
   ],
   "source": [
    "gr_clf = joblib.load(\"../models/GradientBoostingClassifier.pkl\").best_estimator_\n",
    "\n",
    "y_scores = gr_clf.predict_proba(X_test)[:, 1] >= 0.22\n",
    "print(\"Roc Auc de Teste: \", roc_auc_score(y_test, y_scores))\n",
    "print(\"Precisão: \", precision_score(y_test, y_scores))\n",
    "print(\"Recall: \", recall_score(y_test, y_scores))"
   ]
  }
 ],
 "metadata": {
  "kernelspec": {
   "display_name": "Python 3.9.13 ('.venv': poetry)",
   "language": "python",
   "name": "python3"
  },
  "language_info": {
   "codemirror_mode": {
    "name": "ipython",
    "version": 3
   },
   "file_extension": ".py",
   "mimetype": "text/x-python",
   "name": "python",
   "nbconvert_exporter": "python",
   "pygments_lexer": "ipython3",
   "version": "3.9.13"
  },
  "orig_nbformat": 4,
  "vscode": {
   "interpreter": {
    "hash": "ae80b96ead5997db4e0b46bc83745090508d83c5b71e0e39e4333d474e5b4f8c"
   }
  }
 },
 "nbformat": 4,
 "nbformat_minor": 2
}
